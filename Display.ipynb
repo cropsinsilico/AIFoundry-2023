{
 "cells": [
  {
   "cell_type": "code",
   "execution_count": 1,
   "id": "e2efd616",
   "metadata": {},
   "outputs": [],
   "source": [
    "from yggdrasil import tools  # Displaying syntax highlighted source code\n",
    "from yggdrasil.runner import run  # Running integrations\n",
    "import trimesh  # Load & display 3D meshes"
   ]
  },
  {
   "cell_type": "code",
   "execution_count": 2,
   "id": "960195ce",
   "metadata": {},
   "outputs": [
    {
     "name": "stdout",
     "output_type": "stream",
     "text": [
      "file: models/yield_v0.py\n",
      "========================\n",
      " 1: \u001b[38;5;28;01mimport\u001b[39;00m \u001b[38;5;21;01mnumpy\u001b[39;00m \u001b[38;5;28;01mas\u001b[39;00m \u001b[38;5;21;01mnp\u001b[39;00m\n",
      " 2: \u001b[38;5;28;01mfrom\u001b[39;00m \u001b[38;5;21;01myggdrasil\u001b[39;00m \u001b[38;5;28;01mimport\u001b[39;00m units\n",
      " 3: \n",
      " 4: \n",
      " 5: \u001b[38;5;28;01mdef\u001b[39;00m \u001b[38;5;21mgrowth_rate\u001b[39m(t, mass, LAI):\n",
      " 6:     \u001b[38;5;66;03m# Compute the light intercepted\u001b[39;00m\n",
      " 7:     light \u001b[38;5;241m=\u001b[39m (LAI \u001b[38;5;241m*\u001b[39m units\u001b[38;5;241m.\u001b[39madd_units(\u001b[38;5;241m4\u001b[39m, \u001b[38;5;124m'\u001b[39m\u001b[38;5;124merg/s\u001b[39m\u001b[38;5;124m'\u001b[39m)\n",
      " 8:              \u001b[38;5;241m*\u001b[39m ((mass \u001b[38;5;241m/\u001b[39m units\u001b[38;5;241m.\u001b[39madd_units(\u001b[38;5;241m2500\u001b[39m, \u001b[38;5;124m'\u001b[39m\u001b[38;5;124mg\u001b[39m\u001b[38;5;124m'\u001b[39m)) \u001b[38;5;241m*\u001b[39m\u001b[38;5;241m*\u001b[39m \u001b[38;5;241m0.33\u001b[39m)\n",
      " 9:              \u001b[38;5;241m*\u001b[39m (\u001b[38;5;241m0.5\u001b[39m \u001b[38;5;241m+\u001b[39m \u001b[38;5;241m0.5\u001b[39m \u001b[38;5;241m*\u001b[39m np\u001b[38;5;241m.\u001b[39msin(\u001b[38;5;241m2.0\u001b[39m \u001b[38;5;241m*\u001b[39m np\u001b[38;5;241m.\u001b[39mpi \u001b[38;5;241m*\u001b[39m np\u001b[38;5;241m.\u001b[39mfloor(t)\n",
      "10:                                    \u001b[38;5;241m/\u001b[39m units\u001b[38;5;241m.\u001b[39madd_units(\u001b[38;5;241m1\u001b[39m, \u001b[38;5;124m'\u001b[39m\u001b[38;5;124myr\u001b[39m\u001b[38;5;124m'\u001b[39m)))\n",
      "11:              \u001b[38;5;241m*\u001b[39m (\u001b[38;5;241m0.5\u001b[39m \u001b[38;5;241m+\u001b[39m \u001b[38;5;241m0.5\u001b[39m \u001b[38;5;241m*\u001b[39m np\u001b[38;5;241m.\u001b[39mcos(\u001b[38;5;241m2.0\u001b[39m \u001b[38;5;241m*\u001b[39m np\u001b[38;5;241m.\u001b[39mpi\n",
      "12:                                    \u001b[38;5;241m*\u001b[39m ((t \u001b[38;5;241m%\u001b[39m \u001b[38;5;241m1.0\u001b[39m) \u001b[38;5;241m-\u001b[39m units\u001b[38;5;241m.\u001b[39madd_units(\u001b[38;5;241m12\u001b[39m, \u001b[38;5;124m'\u001b[39m\u001b[38;5;124mhrs\u001b[39m\u001b[38;5;124m'\u001b[39m))\n",
      "13:                                    \u001b[38;5;241m/\u001b[39m units\u001b[38;5;241m.\u001b[39madd_units(\u001b[38;5;241m1\u001b[39m, \u001b[38;5;124m'\u001b[39m\u001b[38;5;124mday\u001b[39m\u001b[38;5;124m'\u001b[39m))))\n",
      "14: \n",
      "15:     \u001b[38;5;66;03m# Compute the growth factor for the timestep based on the light\u001b[39;00m\n",
      "16:     \u001b[38;5;66;03m# (pretend this is a biologically complex calculation)\u001b[39;00m\n",
      "17:     growth_rate \u001b[38;5;241m=\u001b[39m (light \u001b[38;5;241m/\u001b[39m units\u001b[38;5;241m.\u001b[39madd_units(\u001b[38;5;241m2000.0\u001b[39m, \u001b[38;5;124m'\u001b[39m\u001b[38;5;124merg*day/s\u001b[39m\u001b[38;5;124m'\u001b[39m))\n",
      "18: \n",
      "19:     \u001b[38;5;66;03m# Return output\u001b[39;00m\n",
      "20:     \u001b[38;5;28;01mreturn\u001b[39;00m growth_rate\n",
      "21: \n",
      "22: \n",
      "23: \u001b[38;5;28;01mdef\u001b[39;00m \u001b[38;5;21myield_curve\u001b[39m(tstart, tend, tstep, mstart, LAI):\n",
      "24:     t \u001b[38;5;241m=\u001b[39m tstart\n",
      "25:     m \u001b[38;5;241m=\u001b[39m mstart\n",
      "26:     times \u001b[38;5;241m=\u001b[39m []\n",
      "27:     masses \u001b[38;5;241m=\u001b[39m []\n",
      "28:     \u001b[38;5;28;01mwhile\u001b[39;00m t \u001b[38;5;241m<\u001b[39m tend:\n",
      "29:         growth \u001b[38;5;241m=\u001b[39m growth_rate(t, m, LAI)\n",
      "30:         m \u001b[38;5;241m=\u001b[39m m \u001b[38;5;241m+\u001b[39m growth \u001b[38;5;241m*\u001b[39m m \u001b[38;5;241m*\u001b[39m tstep\n",
      "31:         times\u001b[38;5;241m.\u001b[39mappend(t)\n",
      "32:         masses\u001b[38;5;241m.\u001b[39mappend(m)\n",
      "33:         t \u001b[38;5;241m+\u001b[39m\u001b[38;5;241m=\u001b[39m tstep\n",
      "34:     times \u001b[38;5;241m=\u001b[39m np\u001b[38;5;241m.\u001b[39marray(times)\n",
      "35:     masses \u001b[38;5;241m=\u001b[39m np\u001b[38;5;241m.\u001b[39marray(masses)\n",
      "36:     \u001b[38;5;28;01mreturn\u001b[39;00m times, masses\n",
      "\n"
     ]
    }
   ],
   "source": [
    "tools.display_source('models/yield_v0.py', number_lines=True)"
   ]
  },
  {
   "cell_type": "code",
   "execution_count": 3,
   "id": "2aa3ac3c",
   "metadata": {},
   "outputs": [],
   "source": [
    "# from yggdrasil\n",
    "# from models.yield_v0 import yield_curve\n",
    "# yield_curve(80.0, 90.0, 0.1, 2000.0, 2.7)"
   ]
  },
  {
   "cell_type": "code",
   "execution_count": 4,
   "id": "38b0b6cd",
   "metadata": {
    "scrolled": false
   },
   "outputs": [
    {
     "name": "stdout",
     "output_type": "stream",
     "text": [
      "file: yamls/yield_v0.yml\n",
      "========================\n",
      " 1: \u001b[38;5;28;01mmodel\u001b[39;00m:\n",
      " 2: \u001b[38;5;250m  \u001b[39m\u001b[38;5;28;01mname\u001b[39;00m:\u001b[38;5;250m \u001b[39myield\n",
      " 3: \u001b[38;5;250m  \u001b[39m\u001b[38;5;28;01mlanguage\u001b[39;00m:\u001b[38;5;250m \u001b[39mpython\n",
      " 4: \u001b[38;5;250m  \u001b[39m\u001b[38;5;28;01margs\u001b[39;00m:\u001b[38;5;250m \u001b[39m../models/yield.py\n",
      " 5: \u001b[38;5;250m  \u001b[39m\u001b[38;5;28;01mfunction\u001b[39;00m:\u001b[38;5;250m \u001b[39myield_curve\n",
      " 6: \u001b[38;5;250m  \u001b[39m\u001b[38;5;28;01minputs\u001b[39;00m:\n",
      " 7: \u001b[38;5;250m    \u001b[39m-\u001b[38;5;250m \u001b[39m\u001b[38;5;28;01mname\u001b[39;00m:\u001b[38;5;250m \u001b[39mtstart\n",
      " 8: \u001b[38;5;250m      \u001b[39m\u001b[38;5;28;01mdatatype\u001b[39;00m:\n",
      " 9: \u001b[38;5;250m        \u001b[39m\u001b[38;5;28;01mtype\u001b[39;00m:\u001b[38;5;250m \u001b[39mfloat\n",
      "10: \u001b[38;5;250m        \u001b[39m\u001b[38;5;28;01munits\u001b[39;00m:\u001b[38;5;250m \u001b[39mday\n",
      "11: \u001b[38;5;250m      \u001b[39m\u001b[38;5;28;01mdefault_value\u001b[39;00m:\u001b[38;5;250m \u001b[39m80\n",
      "12: \u001b[38;5;250m    \u001b[39m-\u001b[38;5;250m \u001b[39m\u001b[38;5;28;01mname\u001b[39;00m:\u001b[38;5;250m \u001b[39mtend\n",
      "13: \u001b[38;5;250m      \u001b[39m\u001b[38;5;28;01mdatatype\u001b[39;00m:\n",
      "14: \u001b[38;5;250m        \u001b[39m\u001b[38;5;28;01mtype\u001b[39;00m:\u001b[38;5;250m \u001b[39mfloat\n",
      "15: \u001b[38;5;250m        \u001b[39m\u001b[38;5;28;01munits\u001b[39;00m:\u001b[38;5;250m \u001b[39mday\n",
      "16: \u001b[38;5;250m      \u001b[39m\u001b[38;5;28;01mdefault_value\u001b[39;00m:\u001b[38;5;250m \u001b[39m84\n",
      "17: \u001b[38;5;250m    \u001b[39m-\u001b[38;5;250m \u001b[39m\u001b[38;5;28;01mname\u001b[39;00m:\u001b[38;5;250m \u001b[39mtstep\n",
      "18: \u001b[38;5;250m      \u001b[39m\u001b[38;5;28;01mdatatype\u001b[39;00m:\n",
      "19: \u001b[38;5;250m        \u001b[39m\u001b[38;5;28;01mtype\u001b[39;00m:\u001b[38;5;250m \u001b[39mfloat\n",
      "20: \u001b[38;5;250m        \u001b[39m\u001b[38;5;28;01munits\u001b[39;00m:\u001b[38;5;250m \u001b[39mday\n",
      "21: \u001b[38;5;250m      \u001b[39m\u001b[38;5;28;01mdefault_value\u001b[39;00m:\u001b[38;5;250m \u001b[39m0.1\n",
      "22: \u001b[38;5;250m    \u001b[39m-\u001b[38;5;250m \u001b[39m\u001b[38;5;28;01mname\u001b[39;00m:\u001b[38;5;250m \u001b[39mmstart\n",
      "23: \u001b[38;5;250m      \u001b[39m\u001b[38;5;28;01mdatatype\u001b[39;00m:\n",
      "24: \u001b[38;5;250m        \u001b[39m\u001b[38;5;28;01mtype\u001b[39;00m:\u001b[38;5;250m \u001b[39mfloat\n",
      "25: \u001b[38;5;250m        \u001b[39m\u001b[38;5;28;01munits\u001b[39;00m:\u001b[38;5;250m \u001b[39mg\n",
      "26: \u001b[38;5;250m      \u001b[39m\u001b[38;5;28;01mdefault_value\u001b[39;00m:\u001b[38;5;250m \u001b[39m2000\n",
      "27: \u001b[38;5;250m    \u001b[39m-\u001b[38;5;250m \u001b[39m\u001b[38;5;28;01mname\u001b[39;00m:\u001b[38;5;250m \u001b[39mLAI\n",
      "28: \u001b[38;5;250m      \u001b[39m\u001b[38;5;28;01mdatatype\u001b[39;00m:\n",
      "29: \u001b[38;5;250m        \u001b[39m\u001b[38;5;28;01mtype\u001b[39;00m:\u001b[38;5;250m \u001b[39mfloat\n",
      "30: \u001b[38;5;250m      \u001b[39m\u001b[38;5;28;01mdefault_value\u001b[39;00m:\u001b[38;5;250m \u001b[39m2.7\n",
      "31: \u001b[38;5;250m  \u001b[39m\u001b[38;5;28;01moutputs\u001b[39;00m:\n",
      "32: \u001b[38;5;250m    \u001b[39m-\u001b[38;5;250m \u001b[39m\u001b[38;5;28;01mname\u001b[39;00m:\u001b[38;5;250m \u001b[39mmass\n",
      "33: \u001b[38;5;250m      \u001b[39m\u001b[38;5;28;01mdefault_file\u001b[39;00m:\n",
      "34: \u001b[38;5;250m        \u001b[39m\u001b[38;5;28;01mname\u001b[39;00m:\u001b[38;5;250m \u001b[39m../output/yield.txt\n",
      "35: \u001b[38;5;250m        \u001b[39m\u001b[38;5;28;01mfiletype\u001b[39;00m:\u001b[38;5;250m \u001b[39mtable\n",
      "36: \u001b[38;5;250m        \u001b[39m\u001b[38;5;28;01mas_array\u001b[39;00m:\u001b[38;5;250m \u001b[39mtrue\n",
      "37: \u001b[38;5;250m        \u001b[39m\u001b[38;5;28;01mfield_names\u001b[39;00m:\u001b[38;5;250m \u001b[39mtime, mass\n",
      "38: \u001b[38;5;250m        \u001b[39m\u001b[38;5;28;01mfield_units\u001b[39;00m:\u001b[38;5;250m \u001b[39mdays, g\n",
      "\n"
     ]
    }
   ],
   "source": [
    "tools.display_source('yamls/yield_v0.yml', number_lines=True)"
   ]
  },
  {
   "cell_type": "code",
   "execution_count": 5,
   "id": "7b6ed949",
   "metadata": {},
   "outputs": [
    {
     "name": "stdout",
     "output_type": "stream",
     "text": [
      "file: models/light_v0.cpp\n",
      "=========================\n",
      " 1: \u001b[38;5;66;03m/*!\u001b[39;00m\n",
      " 2: \u001b[38;5;66;03m  @brief Compute the intensity of light.\u001b[39;00m\n",
      " 3: \n",
      " 4: \u001b[38;5;66;03m  @param[in] doy Day of year including partial days.\u001b[39;00m\n",
      " 5: \u001b[38;5;66;03m  @param[in] geom 3D geometry of plant\u001b[39;00m\n",
      " 6: \u001b[38;5;66;03m  @param[out] intensity Intensity of light in ergs s^-1.\u001b[39;00m\n",
      " 7: \n",
      " 8: \u001b[38;5;66;03m  @returns Success (1) or failure (0).\u001b[39;00m\n",
      " 9: \u001b[38;5;66;03m */\u001b[39;00m\n",
      "10: \u001b[38;5;125mint\u001b[39m\u001b[38;5;250m \u001b[39m\u001b[38;5;21mlight\u001b[39m(\u001b[38;5;125mdouble\u001b[39m\u001b[38;5;250m \u001b[39mdoy,\u001b[38;5;250m \u001b[39mrapidjson\u001b[38;5;241m:\u001b[39m\u001b[38;5;241m:\u001b[39mObjWavefront\u001b[38;5;250m \u001b[39mgeom,\n",
      "11: \u001b[38;5;250m\t  \u001b[39m\u001b[38;5;125mdouble\u001b[39m\u001b[38;5;241m*\u001b[39m\u001b[38;5;250m \u001b[39mintensity)\u001b[38;5;250m \u001b[39m{\n",
      "12: \u001b[38;5;250m  \u001b[39m\u001b[38;5;66;03m// Define parameters that are static across a run\u001b[39;00m\n",
      "13: \u001b[38;5;250m  \u001b[39m\u001b[38;5;125mdouble\u001b[39m\u001b[38;5;250m \u001b[39mamplitude\u001b[38;5;250m \u001b[39m\u001b[38;5;241m=\u001b[39m\u001b[38;5;250m \u001b[39m\u001b[38;5;241m6.0e-4\u001b[39m;\n",
      "14: \u001b[38;5;250m  \u001b[39m\u001b[38;5;125mdouble\u001b[39m\u001b[38;5;250m \u001b[39mdoy_offset\u001b[38;5;250m \u001b[39m\u001b[38;5;241m=\u001b[39m\u001b[38;5;250m \u001b[39m\u001b[38;5;241m0.0\u001b[39m;\n",
      "15: \n",
      "16: \u001b[38;5;250m  \u001b[39m\u001b[38;5;66;03m// Calculate total intensity on each leaf\u001b[39;00m\n",
      "17: \u001b[38;5;250m  \u001b[39mintensity[\u001b[38;5;241m0\u001b[39m]\u001b[38;5;250m \u001b[39m\u001b[38;5;241m=\u001b[39m\u001b[38;5;250m \u001b[39m\u001b[38;5;241m0.0\u001b[39m;\n",
      "18: \u001b[38;5;250m  \u001b[39mstd\u001b[38;5;241m:\u001b[39m\u001b[38;5;241m:\u001b[39mvector\u001b[38;5;241m<\u001b[39m\u001b[38;5;125mdouble\u001b[39m\u001b[38;5;241m>\u001b[39m\u001b[38;5;250m \u001b[39mareas\u001b[38;5;250m \u001b[39m\u001b[38;5;241m=\u001b[39m\u001b[38;5;250m \u001b[39mgeom.areas();\n",
      "19: \u001b[38;5;250m  \u001b[39m\u001b[38;5;28;01mfor\u001b[39;00m\u001b[38;5;250m \u001b[39m(std\u001b[38;5;241m:\u001b[39m\u001b[38;5;241m:\u001b[39mvector\u001b[38;5;241m<\u001b[39m\u001b[38;5;125mdouble\u001b[39m\u001b[38;5;241m>\u001b[39m\u001b[38;5;241m:\u001b[39m\u001b[38;5;241m:\u001b[39miterator\u001b[38;5;250m \u001b[39mit\u001b[38;5;250m \u001b[39m\u001b[38;5;241m=\u001b[39m\u001b[38;5;250m \u001b[39mareas.begin();\n",
      "20: \u001b[38;5;250m       \u001b[39mit\u001b[38;5;250m \u001b[39m\u001b[38;5;241m!\u001b[39m\u001b[38;5;241m=\u001b[39m\u001b[38;5;250m \u001b[39mareas.end();\u001b[38;5;250m \u001b[39mit\u001b[38;5;241m+\u001b[39m\u001b[38;5;241m+\u001b[39m)\u001b[38;5;250m \u001b[39m{\n",
      "21: \u001b[38;5;250m    \u001b[39mintensity[\u001b[38;5;241m0\u001b[39m]\u001b[38;5;250m \u001b[39m\u001b[38;5;241m+\u001b[39m\u001b[38;5;241m=\u001b[39m\u001b[38;5;250m \u001b[39m\u001b[38;5;241m*\u001b[39mit\u001b[38;5;250m \u001b[39m\u001b[38;5;241m*\u001b[39m\u001b[38;5;250m \u001b[39mamplitude\n",
      "22: \u001b[38;5;250m      \u001b[39m\u001b[38;5;241m*\u001b[39m\u001b[38;5;250m \u001b[39m(\u001b[38;5;241m0.5\u001b[39m\u001b[38;5;250m \u001b[39m\u001b[38;5;241m+\u001b[39m\u001b[38;5;250m \u001b[39m\u001b[38;5;241m0.5\u001b[39m\u001b[38;5;250m \u001b[39m\u001b[38;5;241m*\u001b[39m\u001b[38;5;250m \u001b[39msin(\u001b[38;5;241m2.0\u001b[39m\u001b[38;5;250m \u001b[39m\u001b[38;5;241m*\u001b[39m\u001b[38;5;250m \u001b[39mM_PI\u001b[38;5;250m \u001b[39m\u001b[38;5;241m*\u001b[39m\u001b[38;5;250m \u001b[39m(floor(doy)\u001b[38;5;250m \u001b[39m\u001b[38;5;241m-\u001b[39m\u001b[38;5;250m \u001b[39mdoy_offset)\u001b[38;5;250m \u001b[39m\u001b[38;5;241m/\u001b[39m\u001b[38;5;250m \u001b[39m\u001b[38;5;241m365\u001b[39m))\n",
      "23: \u001b[38;5;250m      \u001b[39m\u001b[38;5;241m*\u001b[39m\u001b[38;5;250m \u001b[39m(\u001b[38;5;241m0.5\u001b[39m\u001b[38;5;250m \u001b[39m\u001b[38;5;241m+\u001b[39m\u001b[38;5;250m \u001b[39m\u001b[38;5;241m0.5\u001b[39m\u001b[38;5;250m \u001b[39m\u001b[38;5;241m*\u001b[39m\u001b[38;5;250m \u001b[39mcos(\u001b[38;5;241m2.0\u001b[39m\u001b[38;5;250m \u001b[39m\u001b[38;5;241m*\u001b[39m\u001b[38;5;250m \u001b[39mM_PI\u001b[38;5;250m \u001b[39m\u001b[38;5;241m*\u001b[39m\u001b[38;5;250m \u001b[39m(std\u001b[38;5;241m:\u001b[39m\u001b[38;5;241m:\u001b[39mfmod(doy,\u001b[38;5;250m \u001b[39m\u001b[38;5;241m1.0\u001b[39m)\u001b[38;5;250m \u001b[39m\u001b[38;5;241m-\u001b[39m\u001b[38;5;250m \u001b[39m\u001b[38;5;241m0.5\u001b[39m)));\n",
      "24: \u001b[38;5;250m  \u001b[39m}\n",
      "25: \n",
      "26: \u001b[38;5;250m  \u001b[39m\u001b[38;5;66;03m// Return success\u001b[39;00m\n",
      "27: \u001b[38;5;250m  \u001b[39m\u001b[38;5;28;01mreturn\u001b[39;00m\u001b[38;5;250m \u001b[39m\u001b[38;5;241m1\u001b[39m;\n",
      "28: }\n",
      "\n"
     ]
    }
   ],
   "source": [
    "tools.display_source('models/light_v0.cpp', number_lines=True)"
   ]
  },
  {
   "cell_type": "code",
   "execution_count": 6,
   "id": "b4ba9f52",
   "metadata": {},
   "outputs": [
    {
     "name": "stdout",
     "output_type": "stream",
     "text": [
      "file: yamls/light_v0.yml\n",
      "========================\n",
      " 1: \u001b[38;5;28;01mmodel\u001b[39;00m:\n",
      " 2: \u001b[38;5;250m  \u001b[39m\u001b[38;5;28;01mname\u001b[39;00m:\u001b[38;5;250m \u001b[39mlight\n",
      " 3: \u001b[38;5;250m  \u001b[39m\u001b[38;5;28;01mlanguage\u001b[39;00m:\u001b[38;5;250m \u001b[39mc++\n",
      " 4: \u001b[38;5;250m  \u001b[39m\u001b[38;5;28;01margs\u001b[39;00m:\u001b[38;5;250m \u001b[39m../models/light_v0.cpp\n",
      " 5: \u001b[38;5;250m  \u001b[39m\u001b[38;5;28;01mfunction\u001b[39;00m:\u001b[38;5;250m \u001b[39mlight\n",
      " 6: \u001b[38;5;250m  \u001b[39m\u001b[38;5;28;01minputs\u001b[39;00m:\n",
      " 7: \u001b[38;5;250m    \u001b[39m-\u001b[38;5;250m \u001b[39m\u001b[38;5;28;01mname\u001b[39;00m:\u001b[38;5;250m \u001b[39mdoy\n",
      " 8: \u001b[38;5;250m      \u001b[39m\u001b[38;5;28;01mdatatype\u001b[39;00m:\n",
      " 9: \u001b[38;5;250m        \u001b[39m\u001b[38;5;28;01mtype\u001b[39;00m:\u001b[38;5;250m \u001b[39mfloat\n",
      "10: \u001b[38;5;250m        \u001b[39m\u001b[38;5;28;01munits\u001b[39;00m:\u001b[38;5;250m \u001b[39mday\n",
      "11: \u001b[38;5;250m      \u001b[39m\u001b[38;5;28;01mdefault_value\u001b[39;00m:\u001b[38;5;250m \u001b[39m10.5\n",
      "12: \u001b[38;5;250m    \u001b[39m-\u001b[38;5;250m \u001b[39m\u001b[38;5;28;01mname\u001b[39;00m:\u001b[38;5;250m \u001b[39mgeom\n",
      "13: \u001b[38;5;250m      \u001b[39m\u001b[38;5;28;01mdatatype\u001b[39;00m:\n",
      "14: \u001b[38;5;250m        \u001b[39m\u001b[38;5;28;01mtype\u001b[39;00m:\u001b[38;5;250m \u001b[39mobj\n",
      "15: \u001b[38;5;250m      \u001b[39m\u001b[38;5;28;01mdefault_file\u001b[39;00m:\n",
      "16: \u001b[38;5;250m        \u001b[39m\u001b[38;5;28;01mname\u001b[39;00m:\u001b[38;5;250m \u001b[39m../meshes/plants-2.obj\n",
      "17: \u001b[38;5;250m        \u001b[39m\u001b[38;5;28;01mfiletype\u001b[39;00m:\u001b[38;5;250m \u001b[39mobj\n",
      "18: \u001b[38;5;250m        \u001b[39m\u001b[38;5;28;01mcount\u001b[39;00m:\u001b[38;5;250m \u001b[39m50\n",
      "19: \u001b[38;5;250m  \u001b[39m\u001b[38;5;28;01moutput\u001b[39;00m:\n",
      "20: \u001b[38;5;250m    \u001b[39m-\u001b[38;5;250m \u001b[39m\u001b[38;5;28;01mname\u001b[39;00m:\u001b[38;5;250m \u001b[39mintensity\n",
      "21: \u001b[38;5;250m      \u001b[39m\u001b[38;5;28;01mdatatype\u001b[39;00m:\n",
      "22: \u001b[38;5;250m        \u001b[39m\u001b[38;5;28;01mtype\u001b[39;00m:\u001b[38;5;250m \u001b[39mfloat\n",
      "23: \u001b[38;5;250m        \u001b[39m\u001b[38;5;28;01munits\u001b[39;00m:\u001b[38;5;250m \u001b[39mergs/s\n",
      "24: \u001b[38;5;250m      \u001b[39m\u001b[38;5;28;01mdefault_file\u001b[39;00m:\n",
      "25: \u001b[38;5;250m        \u001b[39m\u001b[38;5;28;01mname\u001b[39;00m:\u001b[38;5;250m \u001b[39m../output/light.txt\n",
      "26: \u001b[38;5;250m        \u001b[39m\u001b[38;5;28;01mfiletype\u001b[39;00m:\u001b[38;5;250m \u001b[39mtable\n",
      "\n"
     ]
    }
   ],
   "source": [
    "tools.display_source('yamls/light_v0.yml', number_lines=True)"
   ]
  },
  {
   "cell_type": "code",
   "execution_count": 7,
   "id": "5155d278",
   "metadata": {},
   "outputs": [
    {
     "name": "stdout",
     "output_type": "stream",
     "text": [
      "file: models/yield_v1.py\n",
      "========================\n",
      " 1: \u001b[38;5;28;01mimport\u001b[39;00m \u001b[38;5;21;01mnumpy\u001b[39;00m \u001b[38;5;28;01mas\u001b[39;00m \u001b[38;5;21;01mnp\u001b[39;00m\n",
      " 2: \u001b[38;5;28;01mfrom\u001b[39;00m \u001b[38;5;21;01myggdrasil\u001b[39;00m \u001b[38;5;28;01mimport\u001b[39;00m units\n",
      " 3: \u001b[38;5;28;01mfrom\u001b[39;00m \u001b[38;5;21;01myggdrasil\u001b[39;00m\u001b[38;5;21;01m.\u001b[39;00m\u001b[38;5;21;01mlanguages\u001b[39;00m\u001b[38;5;21;01m.\u001b[39;00m\u001b[38;5;21;01mPython\u001b[39;00m\u001b[38;5;21;01m.\u001b[39;00m\u001b[38;5;21;01mYggInterface\u001b[39;00m \u001b[38;5;28;01mimport\u001b[39;00m YggRpcClient\n",
      " 4: \n",
      " 5: \n",
      " 6: \u001b[38;5;28;01mdef\u001b[39;00m \u001b[38;5;21mgrowth_rate\u001b[39m(t, mass, LAI):\n",
      " 7:     \u001b[38;5;66;03m# Initialize yggdrasil connection\u001b[39;00m\n",
      " 8:     client \u001b[38;5;241m=\u001b[39m YggRpcClient(\u001b[38;5;124m\"\u001b[39m\u001b[38;5;124mlight_yield\u001b[39m\u001b[38;5;124m\"\u001b[39m, global_scope\u001b[38;5;241m=\u001b[39m\u001b[38;5;28;01mTrue\u001b[39;00m)\n",
      " 9:     \n",
      "10:     \u001b[38;5;66;03m# Compute the light intercepted\u001b[39;00m\n",
      "11:     flag, light \u001b[38;5;241m=\u001b[39m client\u001b[38;5;241m.\u001b[39mcall(t)\n",
      "12:     \u001b[38;5;28;01mif\u001b[39;00m \u001b[38;5;129;01mnot\u001b[39;00m flag:\n",
      "13:         \u001b[38;5;28;01mraise\u001b[39;00m \u001b[38;5;167;01mException\u001b[39;00m(\u001b[38;5;124m\"\u001b[39m\u001b[38;5;124mError calling light model\u001b[39m\u001b[38;5;124m\"\u001b[39m)\n",
      "14: \n",
      "15:     \u001b[38;5;66;03m# Compute the growth factor for the timestep based on the light\u001b[39;00m\n",
      "16:     \u001b[38;5;66;03m# (pretend this is a biologically complex calculation)\u001b[39;00m\n",
      "17:     growth_rate \u001b[38;5;241m=\u001b[39m (light \u001b[38;5;241m/\u001b[39m units\u001b[38;5;241m.\u001b[39madd_units(\u001b[38;5;241m2000.0\u001b[39m, \u001b[38;5;124m'\u001b[39m\u001b[38;5;124merg*day/s\u001b[39m\u001b[38;5;124m'\u001b[39m))\n",
      "18: \n",
      "19:     \u001b[38;5;66;03m# Return output\u001b[39;00m\n",
      "20:     \u001b[38;5;28;01mreturn\u001b[39;00m growth_rate\n",
      "21: \n",
      "22: \n",
      "23: \u001b[38;5;28;01mdef\u001b[39;00m \u001b[38;5;21myield_curve\u001b[39m(tstart, tend, tstep, mstart, LAI):\n",
      "24:     t \u001b[38;5;241m=\u001b[39m tstart\n",
      "25:     m \u001b[38;5;241m=\u001b[39m mstart\n",
      "26:     times \u001b[38;5;241m=\u001b[39m []\n",
      "27:     masses \u001b[38;5;241m=\u001b[39m []\n",
      "28:     \u001b[38;5;28;01mwhile\u001b[39;00m t \u001b[38;5;241m<\u001b[39m tend:\n",
      "29:         growth \u001b[38;5;241m=\u001b[39m growth_rate(t, m, LAI)\n",
      "30:         m \u001b[38;5;241m=\u001b[39m m \u001b[38;5;241m+\u001b[39m growth \u001b[38;5;241m*\u001b[39m m \u001b[38;5;241m*\u001b[39m tstep\n",
      "31:         times\u001b[38;5;241m.\u001b[39mappend(t)\n",
      "32:         masses\u001b[38;5;241m.\u001b[39mappend(m)\n",
      "33:         t \u001b[38;5;241m+\u001b[39m\u001b[38;5;241m=\u001b[39m tstep\n",
      "34:     times \u001b[38;5;241m=\u001b[39m np\u001b[38;5;241m.\u001b[39marray(times)\n",
      "35:     masses \u001b[38;5;241m=\u001b[39m np\u001b[38;5;241m.\u001b[39marray(masses)\n",
      "36:     \u001b[38;5;28;01mreturn\u001b[39;00m times, masses\n",
      "\n"
     ]
    }
   ],
   "source": [
    "tools.display_source('models/yield_v1.py', number_lines=True)"
   ]
  },
  {
   "cell_type": "code",
   "execution_count": 8,
   "id": "ac2289b6",
   "metadata": {},
   "outputs": [
    {
     "name": "stdout",
     "output_type": "stream",
     "text": [
      "file: yamls/yield_v1.yml\n",
      "========================\n",
      " 1: \u001b[38;5;28;01mmodel\u001b[39;00m:\n",
      " 2: \u001b[38;5;250m  \u001b[39m\u001b[38;5;28;01mname\u001b[39;00m:\u001b[38;5;250m \u001b[39myield\n",
      " 3: \u001b[38;5;250m  \u001b[39m\u001b[38;5;28;01mlanguage\u001b[39;00m:\u001b[38;5;250m \u001b[39mpython\n",
      " 4: \u001b[38;5;250m  \u001b[39m\u001b[38;5;28;01margs\u001b[39;00m:\u001b[38;5;250m \u001b[39m../models/yield.py\n",
      " 5: \u001b[38;5;250m  \u001b[39m\u001b[38;5;28;01mfunction\u001b[39;00m:\u001b[38;5;250m \u001b[39myield_curve\n",
      " 6: \u001b[38;5;250m  \u001b[39m\u001b[38;5;28;01mclient_of\u001b[39;00m:\u001b[38;5;250m \u001b[39mlight\n",
      " 7: \u001b[38;5;250m  \u001b[39m\u001b[38;5;28;01minputs\u001b[39;00m:\n",
      " 8: \u001b[38;5;250m    \u001b[39m-\u001b[38;5;250m \u001b[39m\u001b[38;5;28;01mname\u001b[39;00m:\u001b[38;5;250m \u001b[39mtstart\n",
      " 9: \u001b[38;5;250m      \u001b[39m\u001b[38;5;28;01mdatatype\u001b[39;00m:\n",
      "10: \u001b[38;5;250m        \u001b[39m\u001b[38;5;28;01mtype\u001b[39;00m:\u001b[38;5;250m \u001b[39mfloat\n",
      "11: \u001b[38;5;250m        \u001b[39m\u001b[38;5;28;01munits\u001b[39;00m:\u001b[38;5;250m \u001b[39mday\n",
      "12: \u001b[38;5;250m      \u001b[39m\u001b[38;5;28;01mdefault_value\u001b[39;00m:\u001b[38;5;250m \u001b[39m80\n",
      "13: \u001b[38;5;250m    \u001b[39m-\u001b[38;5;250m \u001b[39m\u001b[38;5;28;01mname\u001b[39;00m:\u001b[38;5;250m \u001b[39mtend\n",
      "14: \u001b[38;5;250m      \u001b[39m\u001b[38;5;28;01mdatatype\u001b[39;00m:\n",
      "15: \u001b[38;5;250m        \u001b[39m\u001b[38;5;28;01mtype\u001b[39;00m:\u001b[38;5;250m \u001b[39mfloat\n",
      "16: \u001b[38;5;250m        \u001b[39m\u001b[38;5;28;01munits\u001b[39;00m:\u001b[38;5;250m \u001b[39mday\n",
      "17: \u001b[38;5;250m      \u001b[39m\u001b[38;5;28;01mdefault_value\u001b[39;00m:\u001b[38;5;250m \u001b[39m84\n",
      "18: \u001b[38;5;250m    \u001b[39m-\u001b[38;5;250m \u001b[39m\u001b[38;5;28;01mname\u001b[39;00m:\u001b[38;5;250m \u001b[39mtstep\n",
      "19: \u001b[38;5;250m      \u001b[39m\u001b[38;5;28;01mdatatype\u001b[39;00m:\n",
      "20: \u001b[38;5;250m        \u001b[39m\u001b[38;5;28;01mtype\u001b[39;00m:\u001b[38;5;250m \u001b[39mfloat\n",
      "21: \u001b[38;5;250m        \u001b[39m\u001b[38;5;28;01munits\u001b[39;00m:\u001b[38;5;250m \u001b[39mday\n",
      "22: \u001b[38;5;250m      \u001b[39m\u001b[38;5;28;01mdefault_value\u001b[39;00m:\u001b[38;5;250m \u001b[39m0.1\n",
      "23: \u001b[38;5;250m    \u001b[39m-\u001b[38;5;250m \u001b[39m\u001b[38;5;28;01mname\u001b[39;00m:\u001b[38;5;250m \u001b[39mmstart\n",
      "24: \u001b[38;5;250m      \u001b[39m\u001b[38;5;28;01mdatatype\u001b[39;00m:\n",
      "25: \u001b[38;5;250m        \u001b[39m\u001b[38;5;28;01mtype\u001b[39;00m:\u001b[38;5;250m \u001b[39mfloat\n",
      "26: \u001b[38;5;250m        \u001b[39m\u001b[38;5;28;01munits\u001b[39;00m:\u001b[38;5;250m \u001b[39mg\n",
      "27: \u001b[38;5;250m      \u001b[39m\u001b[38;5;28;01mdefault_value\u001b[39;00m:\u001b[38;5;250m \u001b[39m2000\n",
      "28: \u001b[38;5;250m    \u001b[39m-\u001b[38;5;250m \u001b[39m\u001b[38;5;28;01mname\u001b[39;00m:\u001b[38;5;250m \u001b[39mLAI\n",
      "29: \u001b[38;5;250m      \u001b[39m\u001b[38;5;28;01mdatatype\u001b[39;00m:\n",
      "30: \u001b[38;5;250m        \u001b[39m\u001b[38;5;28;01mtype\u001b[39;00m:\u001b[38;5;250m \u001b[39mfloat\n",
      "31: \u001b[38;5;250m      \u001b[39m\u001b[38;5;28;01mdefault_value\u001b[39;00m:\u001b[38;5;250m \u001b[39m2.7\n",
      "32: \u001b[38;5;250m  \u001b[39m\u001b[38;5;28;01moutputs\u001b[39;00m:\n",
      "33: \u001b[38;5;250m    \u001b[39m-\u001b[38;5;250m \u001b[39m\u001b[38;5;28;01mname\u001b[39;00m:\u001b[38;5;250m \u001b[39mmass\n",
      "34: \u001b[38;5;250m      \u001b[39m\u001b[38;5;28;01mdefault_file\u001b[39;00m:\n",
      "35: \u001b[38;5;250m        \u001b[39m\u001b[38;5;28;01mname\u001b[39;00m:\u001b[38;5;250m \u001b[39m../output/yield.txt\n",
      "36: \u001b[38;5;250m        \u001b[39m\u001b[38;5;28;01mfiletype\u001b[39;00m:\u001b[38;5;250m \u001b[39mtable\n",
      "37: \u001b[38;5;250m        \u001b[39m\u001b[38;5;28;01mas_array\u001b[39;00m:\u001b[38;5;250m \u001b[39mtrue\n",
      "38: \u001b[38;5;250m        \u001b[39m\u001b[38;5;28;01mfield_names\u001b[39;00m:\u001b[38;5;250m \u001b[39mtime, mass\n",
      "39: \u001b[38;5;250m        \u001b[39m\u001b[38;5;28;01mfield_units\u001b[39;00m:\u001b[38;5;250m \u001b[39mdays, g\n",
      "\n"
     ]
    }
   ],
   "source": [
    "tools.display_source('yamls/yield_v1.yml', number_lines=True)"
   ]
  },
  {
   "cell_type": "code",
   "execution_count": 9,
   "id": "67d9a1de",
   "metadata": {},
   "outputs": [
    {
     "name": "stdout",
     "output_type": "stream",
     "text": [
      "file: yamls/light_v1.yml\n",
      "========================\n",
      " 1: \u001b[38;5;28;01mmodel\u001b[39;00m:\n",
      " 2: \u001b[38;5;250m  \u001b[39m\u001b[38;5;28;01mname\u001b[39;00m:\u001b[38;5;250m \u001b[39mlight\n",
      " 3: \u001b[38;5;250m  \u001b[39m\u001b[38;5;28;01mlanguage\u001b[39;00m:\u001b[38;5;250m \u001b[39mc++\n",
      " 4: \u001b[38;5;250m  \u001b[39m\u001b[38;5;28;01margs\u001b[39;00m:\u001b[38;5;250m \u001b[39m../models/light_v0.cpp\n",
      " 5: \u001b[38;5;250m  \u001b[39m\u001b[38;5;28;01mfunction\u001b[39;00m:\u001b[38;5;250m \u001b[39mlight\n",
      " 6: \u001b[38;5;250m  \u001b[39m\u001b[38;5;28;01mis_server\u001b[39;00m:\n",
      " 7: \u001b[38;5;250m    \u001b[39m\u001b[38;5;28;01minput\u001b[39;00m:\u001b[38;5;250m \u001b[39mdoy\n",
      " 8: \u001b[38;5;250m    \u001b[39m\u001b[38;5;28;01moutput\u001b[39;00m:\u001b[38;5;250m \u001b[39mintensity\n",
      " 9: \u001b[38;5;250m  \u001b[39m\u001b[38;5;28;01minputs\u001b[39;00m:\n",
      "10: \u001b[38;5;250m    \u001b[39m-\u001b[38;5;250m \u001b[39m\u001b[38;5;28;01mname\u001b[39;00m:\u001b[38;5;250m \u001b[39mdoy\n",
      "11: \u001b[38;5;250m      \u001b[39m\u001b[38;5;28;01mdatatype\u001b[39;00m:\n",
      "12: \u001b[38;5;250m        \u001b[39m\u001b[38;5;28;01mtype\u001b[39;00m:\u001b[38;5;250m \u001b[39mfloat\n",
      "13: \u001b[38;5;250m        \u001b[39m\u001b[38;5;28;01munits\u001b[39;00m:\u001b[38;5;250m \u001b[39mday\n",
      "14: \u001b[38;5;250m      \u001b[39m\u001b[38;5;28;01mdefault_value\u001b[39;00m:\u001b[38;5;250m \u001b[39m10.5\n",
      "15: \u001b[38;5;250m    \u001b[39m-\u001b[38;5;250m \u001b[39m\u001b[38;5;28;01mname\u001b[39;00m:\u001b[38;5;250m \u001b[39mgeom\n",
      "16: \u001b[38;5;250m      \u001b[39m\u001b[38;5;28;01mdatatype\u001b[39;00m:\n",
      "17: \u001b[38;5;250m        \u001b[39m\u001b[38;5;28;01mtype\u001b[39;00m:\u001b[38;5;250m \u001b[39mobj\n",
      "18: \u001b[38;5;250m      \u001b[39m\u001b[38;5;28;01mdefault_file\u001b[39;00m:\n",
      "19: \u001b[38;5;250m        \u001b[39m\u001b[38;5;28;01mname\u001b[39;00m:\u001b[38;5;250m \u001b[39m../meshes/plants-2.obj\n",
      "20: \u001b[38;5;250m        \u001b[39m\u001b[38;5;28;01mfiletype\u001b[39;00m:\u001b[38;5;250m \u001b[39mobj\n",
      "21: \u001b[38;5;250m        \u001b[39m\u001b[38;5;28;01mcount\u001b[39;00m:\u001b[38;5;250m \u001b[39m50\n",
      "22: \u001b[38;5;250m  \u001b[39m\u001b[38;5;28;01moutput\u001b[39;00m:\n",
      "23: \u001b[38;5;250m    \u001b[39m-\u001b[38;5;250m \u001b[39m\u001b[38;5;28;01mname\u001b[39;00m:\u001b[38;5;250m \u001b[39mintensity\n",
      "24: \u001b[38;5;250m      \u001b[39m\u001b[38;5;28;01mdatatype\u001b[39;00m:\n",
      "25: \u001b[38;5;250m        \u001b[39m\u001b[38;5;28;01mtype\u001b[39;00m:\u001b[38;5;250m \u001b[39mfloat\n",
      "26: \u001b[38;5;250m        \u001b[39m\u001b[38;5;28;01munits\u001b[39;00m:\u001b[38;5;250m \u001b[39mergs/s\n",
      "27: \u001b[38;5;250m      \u001b[39m\u001b[38;5;28;01mdefault_file\u001b[39;00m:\n",
      "28: \u001b[38;5;250m        \u001b[39m\u001b[38;5;28;01mname\u001b[39;00m:\u001b[38;5;250m \u001b[39m../output/light.txt\n",
      "29: \u001b[38;5;250m        \u001b[39m\u001b[38;5;28;01mfiletype\u001b[39;00m:\u001b[38;5;250m \u001b[39mtable\n",
      "\n"
     ]
    }
   ],
   "source": [
    "tools.display_source('yamls/light_v1.yml', number_lines=True)"
   ]
  },
  {
   "cell_type": "code",
   "execution_count": 10,
   "id": "9a4b2b86",
   "metadata": {},
   "outputs": [
    {
     "name": "stdout",
     "output_type": "stream",
     "text": [
      "file1: models/yield_v0.py\n",
      "file2: models/yield_v1.py\n",
      "=========================\n",
      " 1:   \u001b[38;5;28;01mimport\u001b[39;00m \u001b[38;5;21;01mnumpy\u001b[39;00m \u001b[38;5;28;01mas\u001b[39;00m \u001b[38;5;21;01mnp\u001b[39;00m\n",
      " 2:   \u001b[38;5;28;01mfrom\u001b[39;00m \u001b[38;5;21;01myggdrasil\u001b[39;00m \u001b[38;5;28;01mimport\u001b[39;00m units\n",
      " 3: + \u001b[38;5;28;01mfrom\u001b[39;00m \u001b[38;5;21;01myggdrasil\u001b[39;00m\u001b[38;5;21;01m.\u001b[39;00m\u001b[38;5;21;01mlanguages\u001b[39;00m\u001b[38;5;21;01m.\u001b[39;00m\u001b[38;5;21;01mPython\u001b[39;00m\u001b[38;5;21;01m.\u001b[39;00m\u001b[38;5;21;01mYggInterface\u001b[39;00m \u001b[38;5;28;01mimport\u001b[39;00m YggRpcClient\n",
      " 4:   \n",
      " 5:   \n",
      " 6:   \u001b[38;5;28;01mdef\u001b[39;00m \u001b[38;5;21mgrowth_rate\u001b[39m(t, mass, LAI):\n",
      " 7: +     \u001b[38;5;66;03m# Initialize yggdrasil connection\u001b[39;00m\n",
      " 8: +     client \u001b[38;5;241m=\u001b[39m YggRpcClient(\u001b[38;5;124m\"\u001b[39m\u001b[38;5;124mlight_yield\u001b[39m\u001b[38;5;124m\"\u001b[39m, global_scope\u001b[38;5;241m=\u001b[39m\u001b[38;5;28;01mTrue\u001b[39;00m)\n",
      " 9: +     \n",
      "10:       \u001b[38;5;66;03m# Compute the light intercepted\u001b[39;00m\n",
      "11: +     flag, light \u001b[38;5;241m=\u001b[39m client\u001b[38;5;241m.\u001b[39mcall(t)\n",
      "12: +     \u001b[38;5;28;01mif\u001b[39;00m \u001b[38;5;129;01mnot\u001b[39;00m flag:\n",
      "13: +         \u001b[38;5;28;01mraise\u001b[39;00m \u001b[38;5;167;01mException\u001b[39;00m(\u001b[38;5;124m\"\u001b[39m\u001b[38;5;124mError calling light model\u001b[39m\u001b[38;5;124m\"\u001b[39m)\n",
      "    -     light \u001b[38;5;241m=\u001b[39m (LAI \u001b[38;5;241m*\u001b[39m units\u001b[38;5;241m.\u001b[39madd_units(\u001b[38;5;241m4\u001b[39m, \u001b[38;5;124m'\u001b[39m\u001b[38;5;124merg/s\u001b[39m\u001b[38;5;124m'\u001b[39m)\n",
      "    -              \u001b[38;5;241m*\u001b[39m ((mass \u001b[38;5;241m/\u001b[39m units\u001b[38;5;241m.\u001b[39madd_units(\u001b[38;5;241m2500\u001b[39m, \u001b[38;5;124m'\u001b[39m\u001b[38;5;124mg\u001b[39m\u001b[38;5;124m'\u001b[39m)) \u001b[38;5;241m*\u001b[39m\u001b[38;5;241m*\u001b[39m \u001b[38;5;241m0.33\u001b[39m)\n",
      "    -              \u001b[38;5;241m*\u001b[39m (\u001b[38;5;241m0.5\u001b[39m \u001b[38;5;241m+\u001b[39m \u001b[38;5;241m0.5\u001b[39m \u001b[38;5;241m*\u001b[39m np\u001b[38;5;241m.\u001b[39msin(\u001b[38;5;241m2.0\u001b[39m \u001b[38;5;241m*\u001b[39m np\u001b[38;5;241m.\u001b[39mpi \u001b[38;5;241m*\u001b[39m np\u001b[38;5;241m.\u001b[39mfloor(t)\n",
      "    -                                    \u001b[38;5;241m/\u001b[39m units\u001b[38;5;241m.\u001b[39madd_units(\u001b[38;5;241m1\u001b[39m, \u001b[38;5;124m'\u001b[39m\u001b[38;5;124myr\u001b[39m\u001b[38;5;124m'\u001b[39m)))\n",
      "    -              \u001b[38;5;241m*\u001b[39m (\u001b[38;5;241m0.5\u001b[39m \u001b[38;5;241m+\u001b[39m \u001b[38;5;241m0.5\u001b[39m \u001b[38;5;241m*\u001b[39m np\u001b[38;5;241m.\u001b[39mcos(\u001b[38;5;241m2.0\u001b[39m \u001b[38;5;241m*\u001b[39m np\u001b[38;5;241m.\u001b[39mpi\n",
      "    -                                    \u001b[38;5;241m*\u001b[39m ((t \u001b[38;5;241m%\u001b[39m \u001b[38;5;241m1.0\u001b[39m) \u001b[38;5;241m-\u001b[39m units\u001b[38;5;241m.\u001b[39madd_units(\u001b[38;5;241m12\u001b[39m, \u001b[38;5;124m'\u001b[39m\u001b[38;5;124mhrs\u001b[39m\u001b[38;5;124m'\u001b[39m))\n",
      "    -                                    \u001b[38;5;241m/\u001b[39m units\u001b[38;5;241m.\u001b[39madd_units(\u001b[38;5;241m1\u001b[39m, \u001b[38;5;124m'\u001b[39m\u001b[38;5;124mday\u001b[39m\u001b[38;5;124m'\u001b[39m))))\n",
      "14:   \n",
      "15:       \u001b[38;5;66;03m# Compute the growth factor for the timestep based on the light\u001b[39;00m\n",
      "16:       \u001b[38;5;66;03m# (pretend this is a biologically complex calculation)\u001b[39;00m\n",
      "17:       growth_rate \u001b[38;5;241m=\u001b[39m (light \u001b[38;5;241m/\u001b[39m units\u001b[38;5;241m.\u001b[39madd_units(\u001b[38;5;241m2000.0\u001b[39m, \u001b[38;5;124m'\u001b[39m\u001b[38;5;124merg*day/s\u001b[39m\u001b[38;5;124m'\u001b[39m))\n",
      "18:   \n",
      "19:       \u001b[38;5;66;03m# Return output\u001b[39;00m\n",
      "20:       \u001b[38;5;28;01mreturn\u001b[39;00m growth_rate\n",
      "21:   \n",
      "22:   \n",
      "23:   \u001b[38;5;28;01mdef\u001b[39;00m \u001b[38;5;21myield_curve\u001b[39m(tstart, tend, tstep, mstart, LAI):\n",
      "24:       t \u001b[38;5;241m=\u001b[39m tstart\n",
      "25:       m \u001b[38;5;241m=\u001b[39m mstart\n",
      "26:       times \u001b[38;5;241m=\u001b[39m []\n",
      "27:       masses \u001b[38;5;241m=\u001b[39m []\n",
      "28:       \u001b[38;5;28;01mwhile\u001b[39;00m t \u001b[38;5;241m<\u001b[39m tend:\n",
      "29:           growth \u001b[38;5;241m=\u001b[39m growth_rate(t, m, LAI)\n",
      "30:           m \u001b[38;5;241m=\u001b[39m m \u001b[38;5;241m+\u001b[39m growth \u001b[38;5;241m*\u001b[39m m \u001b[38;5;241m*\u001b[39m tstep\n",
      "31:           times\u001b[38;5;241m.\u001b[39mappend(t)\n",
      "32:           masses\u001b[38;5;241m.\u001b[39mappend(m)\n",
      "33:           t \u001b[38;5;241m+\u001b[39m\u001b[38;5;241m=\u001b[39m tstep\n",
      "34:       times \u001b[38;5;241m=\u001b[39m np\u001b[38;5;241m.\u001b[39marray(times)\n",
      "35:       masses \u001b[38;5;241m=\u001b[39m np\u001b[38;5;241m.\u001b[39marray(masses)\n",
      "36:       \u001b[38;5;28;01mreturn\u001b[39;00m times, masses\n",
      "\n"
     ]
    }
   ],
   "source": [
    "tools.display_source_diff('models/yield_v0.py', 'models/yield_v1.py', number_lines=True)"
   ]
  },
  {
   "cell_type": "code",
   "execution_count": 11,
   "id": "d345cd89",
   "metadata": {},
   "outputs": [
    {
     "name": "stdout",
     "output_type": "stream",
     "text": [
      "file1: yamls/yield_v0.yml\n",
      "file2: yamls/yield_v1.yml\n",
      "=========================\n",
      " 1:   \u001b[38;5;28;01mmodel\u001b[39;00m:\n",
      " 2:   \u001b[38;5;250m  \u001b[39m\u001b[38;5;28;01mname\u001b[39;00m:\u001b[38;5;250m \u001b[39myield\n",
      " 3:   \u001b[38;5;250m  \u001b[39m\u001b[38;5;28;01mlanguage\u001b[39;00m:\u001b[38;5;250m \u001b[39mpython\n",
      " 4:   \u001b[38;5;250m  \u001b[39m\u001b[38;5;28;01margs\u001b[39;00m:\u001b[38;5;250m \u001b[39m../models/yield.py\n",
      " 5:   \u001b[38;5;250m  \u001b[39m\u001b[38;5;28;01mfunction\u001b[39;00m:\u001b[38;5;250m \u001b[39myield_curve\n",
      " 6: + \u001b[38;5;250m  \u001b[39m\u001b[38;5;28;01mclient_of\u001b[39;00m:\u001b[38;5;250m \u001b[39mlight\n",
      " 7:   \u001b[38;5;250m  \u001b[39m\u001b[38;5;28;01minputs\u001b[39;00m:\n",
      " 8:   \u001b[38;5;250m    \u001b[39m-\u001b[38;5;250m \u001b[39m\u001b[38;5;28;01mname\u001b[39;00m:\u001b[38;5;250m \u001b[39mtstart\n",
      " 9:   \u001b[38;5;250m      \u001b[39m\u001b[38;5;28;01mdatatype\u001b[39;00m:\n",
      "10:   \u001b[38;5;250m        \u001b[39m\u001b[38;5;28;01mtype\u001b[39;00m:\u001b[38;5;250m \u001b[39mfloat\n",
      "11:   \u001b[38;5;250m        \u001b[39m\u001b[38;5;28;01munits\u001b[39;00m:\u001b[38;5;250m \u001b[39mday\n",
      "12:   \u001b[38;5;250m      \u001b[39m\u001b[38;5;28;01mdefault_value\u001b[39;00m:\u001b[38;5;250m \u001b[39m80\n",
      "13:   \u001b[38;5;250m    \u001b[39m-\u001b[38;5;250m \u001b[39m\u001b[38;5;28;01mname\u001b[39;00m:\u001b[38;5;250m \u001b[39mtend\n",
      "14:   \u001b[38;5;250m      \u001b[39m\u001b[38;5;28;01mdatatype\u001b[39;00m:\n",
      "15:   \u001b[38;5;250m        \u001b[39m\u001b[38;5;28;01mtype\u001b[39;00m:\u001b[38;5;250m \u001b[39mfloat\n",
      "16:   \u001b[38;5;250m        \u001b[39m\u001b[38;5;28;01munits\u001b[39;00m:\u001b[38;5;250m \u001b[39mday\n",
      "17:   \u001b[38;5;250m      \u001b[39m\u001b[38;5;28;01mdefault_value\u001b[39;00m:\u001b[38;5;250m \u001b[39m84\n",
      "18:   \u001b[38;5;250m    \u001b[39m-\u001b[38;5;250m \u001b[39m\u001b[38;5;28;01mname\u001b[39;00m:\u001b[38;5;250m \u001b[39mtstep\n",
      "19:   \u001b[38;5;250m      \u001b[39m\u001b[38;5;28;01mdatatype\u001b[39;00m:\n",
      "20:   \u001b[38;5;250m        \u001b[39m\u001b[38;5;28;01mtype\u001b[39;00m:\u001b[38;5;250m \u001b[39mfloat\n",
      "21:   \u001b[38;5;250m        \u001b[39m\u001b[38;5;28;01munits\u001b[39;00m:\u001b[38;5;250m \u001b[39mday\n",
      "22:   \u001b[38;5;250m      \u001b[39m\u001b[38;5;28;01mdefault_value\u001b[39;00m:\u001b[38;5;250m \u001b[39m0.1\n",
      "23:   \u001b[38;5;250m    \u001b[39m-\u001b[38;5;250m \u001b[39m\u001b[38;5;28;01mname\u001b[39;00m:\u001b[38;5;250m \u001b[39mmstart\n",
      "24:   \u001b[38;5;250m      \u001b[39m\u001b[38;5;28;01mdatatype\u001b[39;00m:\n",
      "25:   \u001b[38;5;250m        \u001b[39m\u001b[38;5;28;01mtype\u001b[39;00m:\u001b[38;5;250m \u001b[39mfloat\n",
      "26:   \u001b[38;5;250m        \u001b[39m\u001b[38;5;28;01munits\u001b[39;00m:\u001b[38;5;250m \u001b[39mg\n",
      "27:   \u001b[38;5;250m      \u001b[39m\u001b[38;5;28;01mdefault_value\u001b[39;00m:\u001b[38;5;250m \u001b[39m2000\n",
      "28:   \u001b[38;5;250m    \u001b[39m-\u001b[38;5;250m \u001b[39m\u001b[38;5;28;01mname\u001b[39;00m:\u001b[38;5;250m \u001b[39mLAI\n",
      "29:   \u001b[38;5;250m      \u001b[39m\u001b[38;5;28;01mdatatype\u001b[39;00m:\n",
      "30:   \u001b[38;5;250m        \u001b[39m\u001b[38;5;28;01mtype\u001b[39;00m:\u001b[38;5;250m \u001b[39mfloat\n",
      "31:   \u001b[38;5;250m      \u001b[39m\u001b[38;5;28;01mdefault_value\u001b[39;00m:\u001b[38;5;250m \u001b[39m2.7\n",
      "32:   \u001b[38;5;250m  \u001b[39m\u001b[38;5;28;01moutputs\u001b[39;00m:\n",
      "33:   \u001b[38;5;250m    \u001b[39m-\u001b[38;5;250m \u001b[39m\u001b[38;5;28;01mname\u001b[39;00m:\u001b[38;5;250m \u001b[39mmass\n",
      "34:   \u001b[38;5;250m      \u001b[39m\u001b[38;5;28;01mdefault_file\u001b[39;00m:\n",
      "35:   \u001b[38;5;250m        \u001b[39m\u001b[38;5;28;01mname\u001b[39;00m:\u001b[38;5;250m \u001b[39m../output/yield.txt\n",
      "36:   \u001b[38;5;250m        \u001b[39m\u001b[38;5;28;01mfiletype\u001b[39;00m:\u001b[38;5;250m \u001b[39mtable\n",
      "37:   \u001b[38;5;250m        \u001b[39m\u001b[38;5;28;01mas_array\u001b[39;00m:\u001b[38;5;250m \u001b[39mtrue\n",
      "38:   \u001b[38;5;250m        \u001b[39m\u001b[38;5;28;01mfield_names\u001b[39;00m:\u001b[38;5;250m \u001b[39mtime, mass\n",
      "39:   \u001b[38;5;250m        \u001b[39m\u001b[38;5;28;01mfield_units\u001b[39;00m:\u001b[38;5;250m \u001b[39mdays, g\n",
      "\n"
     ]
    }
   ],
   "source": [
    "tools.display_source_diff('yamls/yield_v0.yml', 'yamls/yield_v1.yml', number_lines=True)"
   ]
  },
  {
   "cell_type": "code",
   "execution_count": null,
   "id": "21643d9f",
   "metadata": {},
   "outputs": [],
   "source": []
  },
  {
   "cell_type": "code",
   "execution_count": 12,
   "id": "6cd736e5",
   "metadata": {},
   "outputs": [
    {
     "name": "stdout",
     "output_type": "stream",
     "text": [
      "file1: yamls/light_v0.yml\n",
      "file2: yamls/light_v1.yml\n",
      "=========================\n",
      " 1:   \u001b[38;5;28;01mmodel\u001b[39;00m:\n",
      " 2:   \u001b[38;5;250m  \u001b[39m\u001b[38;5;28;01mname\u001b[39;00m:\u001b[38;5;250m \u001b[39mlight\n",
      " 3:   \u001b[38;5;250m  \u001b[39m\u001b[38;5;28;01mlanguage\u001b[39;00m:\u001b[38;5;250m \u001b[39mc++\n",
      " 4:   \u001b[38;5;250m  \u001b[39m\u001b[38;5;28;01margs\u001b[39;00m:\u001b[38;5;250m \u001b[39m../models/light_v0.cpp\n",
      " 5:   \u001b[38;5;250m  \u001b[39m\u001b[38;5;28;01mfunction\u001b[39;00m:\u001b[38;5;250m \u001b[39mlight\n",
      " 6: + \u001b[38;5;250m  \u001b[39m\u001b[38;5;28;01mis_server\u001b[39;00m:\n",
      " 7: + \u001b[38;5;250m    \u001b[39m\u001b[38;5;28;01minput\u001b[39;00m:\u001b[38;5;250m \u001b[39mdoy\n",
      " 8: + \u001b[38;5;250m    \u001b[39m\u001b[38;5;28;01moutput\u001b[39;00m:\u001b[38;5;250m \u001b[39mintensity\n",
      " 9:   \u001b[38;5;250m  \u001b[39m\u001b[38;5;28;01minputs\u001b[39;00m:\n",
      "10:   \u001b[38;5;250m    \u001b[39m-\u001b[38;5;250m \u001b[39m\u001b[38;5;28;01mname\u001b[39;00m:\u001b[38;5;250m \u001b[39mdoy\n",
      "11:   \u001b[38;5;250m      \u001b[39m\u001b[38;5;28;01mdatatype\u001b[39;00m:\n",
      "12:   \u001b[38;5;250m        \u001b[39m\u001b[38;5;28;01mtype\u001b[39;00m:\u001b[38;5;250m \u001b[39mfloat\n",
      "13:   \u001b[38;5;250m        \u001b[39m\u001b[38;5;28;01munits\u001b[39;00m:\u001b[38;5;250m \u001b[39mday\n",
      "14:   \u001b[38;5;250m      \u001b[39m\u001b[38;5;28;01mdefault_value\u001b[39;00m:\u001b[38;5;250m \u001b[39m10.5\n",
      "15:   \u001b[38;5;250m    \u001b[39m-\u001b[38;5;250m \u001b[39m\u001b[38;5;28;01mname\u001b[39;00m:\u001b[38;5;250m \u001b[39mgeom\n",
      "16:   \u001b[38;5;250m      \u001b[39m\u001b[38;5;28;01mdatatype\u001b[39;00m:\n",
      "17:   \u001b[38;5;250m        \u001b[39m\u001b[38;5;28;01mtype\u001b[39;00m:\u001b[38;5;250m \u001b[39mobj\n",
      "18:   \u001b[38;5;250m      \u001b[39m\u001b[38;5;28;01mdefault_file\u001b[39;00m:\n",
      "19:   \u001b[38;5;250m        \u001b[39m\u001b[38;5;28;01mname\u001b[39;00m:\u001b[38;5;250m \u001b[39m../meshes/plants-2.obj\n",
      "20:   \u001b[38;5;250m        \u001b[39m\u001b[38;5;28;01mfiletype\u001b[39;00m:\u001b[38;5;250m \u001b[39mobj\n",
      "21:   \u001b[38;5;250m        \u001b[39m\u001b[38;5;28;01mcount\u001b[39;00m:\u001b[38;5;250m \u001b[39m50\n",
      "22:   \u001b[38;5;250m  \u001b[39m\u001b[38;5;28;01moutput\u001b[39;00m:\n",
      "23:   \u001b[38;5;250m    \u001b[39m-\u001b[38;5;250m \u001b[39m\u001b[38;5;28;01mname\u001b[39;00m:\u001b[38;5;250m \u001b[39mintensity\n",
      "24:   \u001b[38;5;250m      \u001b[39m\u001b[38;5;28;01mdatatype\u001b[39;00m:\n",
      "25:   \u001b[38;5;250m        \u001b[39m\u001b[38;5;28;01mtype\u001b[39;00m:\u001b[38;5;250m \u001b[39mfloat\n",
      "26:   \u001b[38;5;250m        \u001b[39m\u001b[38;5;28;01munits\u001b[39;00m:\u001b[38;5;250m \u001b[39mergs/s\n",
      "27:   \u001b[38;5;250m      \u001b[39m\u001b[38;5;28;01mdefault_file\u001b[39;00m:\n",
      "28:   \u001b[38;5;250m        \u001b[39m\u001b[38;5;28;01mname\u001b[39;00m:\u001b[38;5;250m \u001b[39m../output/light.txt\n",
      "29:   \u001b[38;5;250m        \u001b[39m\u001b[38;5;28;01mfiletype\u001b[39;00m:\u001b[38;5;250m \u001b[39mtable\n",
      "\n"
     ]
    }
   ],
   "source": [
    "tools.display_source_diff('yamls/light_v0.yml', 'yamls/light_v1.yml', number_lines=True)"
   ]
  },
  {
   "cell_type": "code",
   "execution_count": 26,
   "id": "ef01df2b",
   "metadata": {},
   "outputs": [],
   "source": [
    "import os\n",
    "from yggdrasil.communication.AsciiTableComm import AsciiTableComm\n",
    "fname = os.path.join('output', 'yield_v0.txt')\n",
    "fd = AsciiTableComm(fname, as_array=True, direction='recv')\n",
    "flag, data_v0 = fd.recv()\n",
    "fd.close()\n",
    "fname = os.path.join('output', 'yield_v1.txt')\n",
    "fd = AsciiTableComm(fname, as_array=True, direction='recv')\n",
    "flag, data_v1 = fd.recv()\n",
    "fd.close()"
   ]
  },
  {
   "cell_type": "code",
   "execution_count": 27,
   "id": "df637ee0",
   "metadata": {},
   "outputs": [
    {
     "data": {
      "text/plain": [
       "Text(0, 0.5, 'Mass (g)')"
      ]
     },
     "execution_count": 27,
     "metadata": {},
     "output_type": "execute_result"
    },
    {
     "data": {
      "image/png": "[encoded data removed]",
      "text/plain": [
       "<Figure size 640x480 with 1 Axes>"
      ]
     },
     "metadata": {},
     "output_type": "display_data"
    }
   ],
   "source": [
    "import matplotlib.pyplot as plt\n",
    "plt.plot(data_v0[0], data_v0[1])\n",
    "plt.xlabel(f'Time ({data_v0[0].units})')\n",
    "plt.ylabel(f'Mass ({data_v0[1].units})')"
   ]
  },
  {
   "cell_type": "code",
   "execution_count": 31,
   "id": "9728af28",
   "metadata": {},
   "outputs": [
    {
     "data": {
      "text/plain": [
       "<matplotlib.legend.Legend at 0x147ce2760>"
      ]
     },
     "execution_count": 31,
     "metadata": {},
     "output_type": "execute_result"
    },
    {
     "data": {
      "image/png": "[encoded data removed]",
      "text/plain": [
       "<Figure size 640x480 with 1 Axes>"
      ]
     },
     "metadata": {},
     "output_type": "display_data"
    }
   ],
   "source": [
    "import matplotlib.pyplot as plt\n",
    "ax = plt.plot(data_v0[0], data_v0[1], '-', data_v1[0], data_v1[1], '--')\n",
    "plt.xlabel(f'Time ({data_v0[0].units})')\n",
    "plt.ylabel(f'Mass ({data_v0[1].units})')\n",
    "ax[0].set_label('Emperical')\n",
    "ax[1].set_label('Mechanistic')\n",
    "plt.legend()"
   ]
  },
  {
   "cell_type": "code",
   "execution_count": 32,
   "id": "160b5e8d",
   "metadata": {},
   "outputs": [
    {
     "name": "stdout",
     "output_type": "stream",
     "text": [
      "file: output/yield_v0.txt\n",
      "=========================\n",
      "# time\t mass\n",
      "# day\tg\n",
      "# %g\t%g\n",
      "80.1\t2000\n",
      "80.2\t2000.09\n",
      "80.3\t2000.44\n",
      "80.4\t2001.09\n",
      "80.5\t2001.99\n",
      "80.6\t2002.98\n",
      "80.7\t2003.88\n",
      "80.8\t2004.54\n",
      "80.9\t2004.88\n",
      "81\t2004.98\n",
      "81.1\t2004.98\n",
      "81.2\t2005.07\n",
      "81.3\t2005.42\n",
      "81.4\t2006.07\n",
      "81.5\t2006.97\n",
      "81.6\t2007.97\n",
      "81.7\t2008.88\n",
      "81.8\t2009.54\n",
      "81.9\t2009.88\n",
      "82\t2009.98\n",
      "82.1\t2009.98\n",
      "82.2\t2010.07\n",
      "82.3\t2010.42\n",
      "82.4\t2011.08\n",
      "82.5\t2011.99\n",
      "82.6\t2012.99\n",
      "82.7\t2013.9\n",
      "82.8\t2014.56\n",
      "82.9\t2014.91\n",
      "83\t2015\n",
      "83.1\t2015\n",
      "83.2\t2015.1\n",
      "83.3\t2015.45\n",
      "83.4\t2016.11\n",
      "83.5\t2017.02\n",
      "83.6\t2018.03\n",
      "83.7\t2018.94\n",
      "83.8\t2019.6\n",
      "83.9\t2019.95\n",
      "84\t2020.05\n",
      "84.1\t2020.05\n",
      "\n",
      "\n"
     ]
    }
   ],
   "source": [
    "tools.display_source('output/yield_v0.txt')"
   ]
  },
  {
   "cell_type": "code",
   "execution_count": 33,
   "id": "08574076",
   "metadata": {},
   "outputs": [
    {
     "name": "stdout",
     "output_type": "stream",
     "text": [
      "file: output/yield_v1.txt\n",
      "=========================\n",
      "# time\t mass\n",
      "# day\tg\n",
      "# %g\t%g\n",
      "80.1\t2000\n",
      "80.2\t2000.14\n",
      "80.3\t2000.63\n",
      "80.4\t2001.55\n",
      "80.5\t2002.84\n",
      "80.6\t2004.26\n",
      "80.7\t2005.54\n",
      "80.8\t2006.48\n",
      "80.9\t2006.97\n",
      "81\t2007.1\n",
      "81.1\t2007.1\n",
      "81.2\t2007.24\n",
      "81.3\t2007.73\n",
      "81.4\t2008.67\n",
      "81.5\t2009.96\n",
      "81.6\t2011.38\n",
      "81.7\t2012.68\n",
      "81.8\t2013.61\n",
      "81.9\t2014.11\n",
      "82\t2014.24\n",
      "82.1\t2014.24\n",
      "82.2\t2014.38\n",
      "82.3\t2014.87\n",
      "82.4\t2015.81\n",
      "82.5\t2017.11\n",
      "82.6\t2018.54\n",
      "82.7\t2019.84\n",
      "82.8\t2020.78\n",
      "82.9\t2021.28\n",
      "83\t2021.42\n",
      "83.1\t2021.42\n",
      "83.2\t2021.56\n",
      "83.3\t2022.05\n",
      "83.4\t2023\n",
      "83.5\t2024.3\n",
      "83.6\t2025.74\n",
      "83.7\t2027.05\n",
      "83.8\t2027.99\n",
      "83.9\t2028.49\n",
      "84\t2028.63\n",
      "84.1\t2028.63\n",
      "\n",
      "\n"
     ]
    }
   ],
   "source": [
    "tools.display_source('output/yield_v1.txt')"
   ]
  },
  {
   "cell_type": "code",
   "execution_count": 34,
   "id": "ce8c0e3a",
   "metadata": {},
   "outputs": [
    {
     "name": "stdout",
     "output_type": "stream",
     "text": [
      "file: output/light.txt\n",
      "======================\n",
      "# erg*(s**-1)\n",
      "# %g\n",
      "8.3854\n",
      "\n",
      "\n"
     ]
    }
   ],
   "source": [
    "tools.display_source('output/light.txt')"
   ]
  },
  {
   "cell_type": "code",
   "execution_count": null,
   "id": "6a1d3c1f",
   "metadata": {},
   "outputs": [],
   "source": []
  }
 ],
 "metadata": {
  "kernelspec": {
   "display_name": "Python 3 (ipykernel)",
   "language": "python",
   "name": "python3"
  },
  "language_info": {
   "codemirror_mode": {
    "name": "ipython",
    "version": 3
   },
   "file_extension": ".py",
   "mimetype": "text/x-python",
   "name": "python",
   "nbconvert_exporter": "python",
   "pygments_lexer": "ipython3",
   "version": "3.9.16"
  }
 },
 "nbformat": 4,
 "nbformat_minor": 5
}
